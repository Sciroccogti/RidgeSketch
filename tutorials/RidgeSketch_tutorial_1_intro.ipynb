{
 "cells": [
  {
   "cell_type": "markdown",
   "metadata": {},
   "source": [
    "# RidgeSketch : Tutorial to solve Ridge Regression problem\n",
    "\n",
    "    RidgeSketch package\n",
    "    Authors : Nidham Gazagnadou, Robert Gower, Mark Ibrahim\n",
    "   \n",
    "The aim of this project is to provide an open source package in Python for solving large scale ridge regression using the sketch-and-project technique.\n",
    "\n",
    "This tutorial gives an overview of :\n",
    "- loading data\n",
    "- how to set up a problem\n",
    "- select a sketching method\n",
    "- solve the ridge sketch problem"
   ]
  },
  {
   "cell_type": "markdown",
   "metadata": {},
   "source": [
    "### Table of content\n",
    "\n",
    "[0. Prerequisites](#prerequisites)<br>\n",
    "[1. Load data](#load_data)<br>\n",
    "[2. Build and fit model](#model)<br>"
   ]
  },
  {
   "cell_type": "markdown",
   "metadata": {},
   "source": [
    "<a id='prerequisites'></a>\n",
    "## 0. Prerequisites"
   ]
  },
  {
   "cell_type": "code",
   "execution_count": 10,
   "metadata": {},
   "outputs": [],
   "source": [
    "import sys\n",
    "sys.path.append(\"../\")"
   ]
  },
  {
   "cell_type": "code",
   "execution_count": 11,
   "metadata": {},
   "outputs": [],
   "source": [
    "# Make sure the `ridgesketch-env` environment is activated\n",
    "# and that all requirements are installed with\n",
    "# $pip install -r requirements.txt"
   ]
  },
  {
   "cell_type": "code",
   "execution_count": 12,
   "metadata": {},
   "outputs": [],
   "source": [
    "import numpy as np\n",
    "\n",
    "from datasets.data_loaders import BostonDataset, CaliforniaHousingDataset, Rcv1Dataset\n",
    "from ridge_sketch import RidgeSketch\n",
    "from kernel_ridge_sketch import KernelRidgeSketch"
   ]
  },
  {
   "cell_type": "markdown",
   "metadata": {},
   "source": [
    "<a id='load_data'></a>\n",
    "## 1. Load data"
   ]
  },
  {
   "cell_type": "code",
   "execution_count": 13,
   "metadata": {
    "scrolled": true
   },
   "outputs": [
    {
     "name": "stdout",
     "output_type": "stream",
     "text": [
      "X shape (1000, 500), y shape (1000, 1)\n"
     ]
    }
   ],
   "source": [
    "np.random.seed(0)\n",
    "\n",
    "# Generating a dataset\n",
    "n_samples, n_features = 1000, 500\n",
    "X = np.random.rand(n_samples, n_features)\n",
    "y = np.random.rand(n_samples, 1) # Warning: y should be of size (n_samples, 1) not (n_samples, )\n",
    "print(f\"X shape {(n_samples, n_features)}, y shape {y.shape}\")"
   ]
  },
  {
   "cell_type": "code",
   "execution_count": 14,
   "metadata": {},
   "outputs": [],
   "source": [
    "# One can also load regression data using '.load_X_y()' method of the desired dataset\n",
    "# dataset = CaliforniaHousingDataset()\n",
    "# X, y = dataset.load_X_y()\n",
    "# n_samples, n_features = X.shape"
   ]
  },
  {
   "cell_type": "markdown",
   "metadata": {},
   "source": [
    "<a id='model'></a>\n",
    "## 2. Build and fit model\n",
    "\n",
    "User can select the settings of the ridge regression problem and of the solver he wants to use."
   ]
  },
  {
   "cell_type": "code",
   "execution_count": 15,
   "metadata": {},
   "outputs": [
    {
     "name": "stdout",
     "output_type": "stream",
     "text": [
      "\n",
      "iter:0 | res : 5.63e+03\n",
      "iter:50 | res : 3.81e+01\n",
      "iter:100 | res : 2.45e+01\n",
      "iter:150 | res : 1.89e+01\n",
      "iter:200 | res : 1.41e+01\n",
      "iter:250 | res : 1.11e+01\n",
      "iter:300 | res : 8.92e+00\n",
      "iter:350 | res : 6.60e+00\n",
      "Tolerance (1.00e-03) in 391 iterations, residual norm = 9.98e-04\n"
     ]
    }
   ],
   "source": [
    "# Regularization parameter of the ridge problem\n",
    "alpha = 1e-1\n",
    "\n",
    "# Choose an method through the `algo_mode` variable\n",
    "# - Vanilla Ridge Sketch: algo_mode = \"auto\"\n",
    "# - Ridge Sketch wigth momentum: algo_mode = \"mom\" \n",
    "#   (then `eta_mom` or `beta_mom` and `step_size` parameters can be set)\n",
    "# - Accelearated Ridge Sketch: algo_mode = \"accel\"\n",
    "#   (then `accel_mu` and `accel_nu` parameters can be set)\n",
    "algo_mode = \"mom\"\n",
    "\n",
    "# Choose a solver from the following list\n",
    "# SKETCH_SOLVERS = {\"subsample\", \"coordinate descent\", \"gaussian\", \"count\", \"subcount\", \"hadamard\", \"direct\", \"cg\",}\n",
    "solver = \"subsample\"\n",
    "# Warning: `direct` and `cg` solvers are not available with momentum and acceleration\n",
    "\n",
    "# Size of the sketched matrix SA\n",
    "sketch_size = 10 # should be smaller than min(n_samples, n_features)\n",
    "\n",
    "# Build or not the ridge matrix A\n",
    "operator_mode = False # Warning: not all solver are available for operator mode\n",
    "\n",
    "model = RidgeSketch(\n",
    "            alpha=alpha,\n",
    "            algo_mode=algo_mode,\n",
    "            solver=solver,\n",
    "            sketch_size=sketch_size,\n",
    "            operator_mode=operator_mode,\n",
    "            verbose=1,\n",
    "        )\n",
    "\n",
    "# Solve the ridge regression problem and fit the model on the data\n",
    "model.fit(X, y)"
   ]
  },
  {
   "cell_type": "code",
   "execution_count": 16,
   "metadata": {},
   "outputs": [],
   "source": [
    "# For Kernel ridge regression run\n",
    "\n",
    "# Select the kernel from {\"RBF\", \"Matern\"}\n",
    "kernel = \"RBF\" # Radial Basis Function (RBF) kernel\n",
    "\n",
    "model_kernel = KernelRidgeSketch(\n",
    "                   solver=solver,\n",
    "                   alpha=alpha,\n",
    "                   sketch_size=sketch_size,\n",
    "                   kernel=kernel,\n",
    "                   verbose=1,\n",
    "               )\n",
    "\n",
    "# Solve the kernel ridge regression problem and fit the model on the data\n",
    "model_kernel.fit(X, y)"
   ]
  }
 ],
 "metadata": {
  "kernelspec": {
   "display_name": "Python 3.7.7 64-bit ('ridgesketch-env': venv)",
   "language": "python",
   "name": "python37764bitridgesketchenvvenvdf2ee632ce4344578162f27aa20aab68"
  },
  "language_info": {
   "codemirror_mode": {
    "name": "ipython",
    "version": 3
   },
   "file_extension": ".py",
   "mimetype": "text/x-python",
   "name": "python",
   "nbconvert_exporter": "python",
   "pygments_lexer": "ipython3",
   "version": "3.7.7"
  }
 },
 "nbformat": 4,
 "nbformat_minor": 4
}
