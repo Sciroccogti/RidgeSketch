{
 "cells": [
  {
   "cell_type": "markdown",
   "metadata": {},
   "source": [
    "# RidgeSketch : Tutorial to add a new sketching technique\n",
    "\n",
    "    RidgeSketch package\n",
    "    Authors : Nidham Gazagnadou, Robert Gower, Mark Ibrahim\n",
    "   \n",
    "The aim of this project is to provide an open source package in Python for solving large scale ridge regression using the sketch-and-project technique.\n",
    "\n",
    "This tutorial gives an overview of :\n",
    "- add a new skething technique\n",
    "- check that tests are passed\n",
    "- benchmark it against other sketching methods\n",
    "\n",
    "It is shown how to add a new sketching method a user would like to try and to compare its performance against pre-existing sketching methods or other solvers (like CG or direct solver).\n",
    "\n",
    "As an example, we will show how to add the **partitioning sketch** which divides the matrix $A$ in blocks\n",
    "$A_1, A_2, ..., A_{\\text{n_folds}}$ each of size `sketch_size` and samples them cyclicaly before resetting randomly new blocks.\n",
    "\n",
    "\n",
    "It is also shown how to create a **new benchmark** in order to compare the performance of different sketching methods over different settings (e.g. with or without Kernel, different sketching size etc)."
   ]
  },
  {
   "cell_type": "markdown",
   "metadata": {},
   "source": [
    "### Table of content\n",
    "\n",
    "[0. Prerequisites](#prerequisites)<br>\n",
    "[1. Load data](#load_data)<br>\n",
    "[2. Create the new sketch in *sketching.py*](#sketching)<br>\n",
    "[3. Add to solvers in *ridge_sketch.py*](#add_to_solvers)<br>\n",
    "[4. Write tests](#tests)<br>\n",
    "[5. Write a benchmark](#benchmark)<br>"
   ]
  },
  {
   "cell_type": "markdown",
   "metadata": {},
   "source": [
    "<a id='prerequisites'></a>\n",
    "## 0. Prerequisites"
   ]
  },
  {
   "cell_type": "code",
   "execution_count": null,
   "metadata": {},
   "outputs": [],
   "source": [
    "import sys\n",
    "sys.path.append(\"../\")"
   ]
  },
  {
   "cell_type": "code",
   "execution_count": null,
   "metadata": {},
   "outputs": [],
   "source": [
    "# Make sure the 'ridgesketch-env' environment is activated\n",
    "# and that all requirements are installed with\n",
    "# $pip install -r requirements.txt"
   ]
  },
  {
   "cell_type": "code",
   "execution_count": null,
   "metadata": {},
   "outputs": [],
   "source": [
    "# %matplotlib inline"
   ]
  },
  {
   "cell_type": "code",
   "execution_count": null,
   "metadata": {},
   "outputs": [],
   "source": [
    "import numpy as np\n",
    "from ridge_sketch import RidgeSketch"
   ]
  },
  {
   "cell_type": "markdown",
   "metadata": {},
   "source": [
    "<a id='load_data'></a>\n",
    "## 1. Load data"
   ]
  },
  {
   "cell_type": "code",
   "execution_count": null,
   "metadata": {
    "scrolled": true
   },
   "outputs": [],
   "source": [
    "np.random.seed(0)\n",
    "\n",
    "# Generating a dataset\n",
    "n_samples, n_features = 10, 500\n",
    "X = np.random.rand(n_samples, n_features)\n",
    "y = np.random.rand(n_samples, 1) # Warning: y should be of size (n_samples, 1) not (n_samples, )\n",
    "print(f\"X shape {(n_samples, n_features)}, y shape {y.shape}\")"
   ]
  },
  {
   "cell_type": "markdown",
   "metadata": {},
   "source": [
    "<a id='sketching'></a>\n",
    "## 2. Create the new sketch in *sketching.py*\n",
    "\n",
    "Create a new sketching class inheriting from the `Sketch` class in *sketching.py*. It must have 4 methods\n",
    "\n",
    "- `__init__`: initialize required attributes (they already contain `A`, `b`, sketch_size, and the number of rows of A in `m`) which usually consist of the sketch matrix `S` or an equivalent representation (cf `SubsampleSketch`, `CountSketch` and `SubcountSketch`)\n",
    "- `set_sketch`: method generating the sketch matrix `S` or its representation\n",
    "- `sketch`: a method taking as input the current residual and returns `SA`=$S^\\top A$, `SAS`=$S^\\top A S$ and the sketched residual `rs`=$r_S = S^\\top r$ (cf algorithm ? in the paper)\n",
    "- `udate_iterate`: updates the weights using the least norm solution `lmbda`"
   ]
  },
  {
   "cell_type": "markdown",
   "metadata": {},
   "source": [
    "Example: the subsample sketching method\n",
    "\n",
    "```python\n",
    "class SubsampleSketch(Sketch):\n",
    "    def __init__(self, A, b, sketch_size):\n",
    "        super().__init__(A, b, sketch_size)\n",
    "        self.sample_indices = None\n",
    "\n",
    "    def set_sketch(self):\n",
    "        \"\"\"Generates subsampling indices\"\"\"\n",
    "        self.sample_indices = generate_sample_indices(self.m, self.sketch_size)\n",
    "\n",
    "    def sketch(self, r):\n",
    "        self.set_sketch()\n",
    "        SA = self.A.get_rows(self.sample_indices)\n",
    "        SAS = SA[:, self.sample_indices]\n",
    "        rs = r[self.sample_indices]\n",
    "        return SA, SAS, rs\n",
    "\n",
    "    def update_iterate(self, w, lmbda, step_size=1.0):\n",
    "        if self.sample_indices is None:\n",
    "            raise AttributeError(\"sample indices before updating iterate\")\n",
    "        w[self.sample_indices] -= step_size * lmbda\n",
    "        return w\n",
    "```"
   ]
  },
  {
   "cell_type": "code",
   "execution_count": null,
   "metadata": {},
   "outputs": [],
   "source": [
    "class PartitionSketch(Sketch):\n",
    "    def __init__(self, A, b, sketch_size):\n",
    "        super().__init__(A, b, sketch_size)\n",
    "        self.iter = 0 # number of iteration modulo the number of folds\n",
    "        self.n_folds = int(np.floor(self.m / self.sketch_size))\n",
    "        self.folds = None # list of the arrays of indices\n",
    "        # `self.sample_indices` need to be a list for A.get_rows() to work\n",
    "        self.sample_indices = None # list of selected indices\n",
    "\n",
    "    def set_sketch(self):\n",
    "        \"\"\"\n",
    "        Selects one of the row partitions of A.\n",
    "\n",
    "        Generates random arrays of size `skecth_dim`\n",
    "        containing subsampling indices if not already\n",
    "        done.\n",
    "        Some rows are dropped to build subsets of size\n",
    "        `sketch_size`.\n",
    "        \"\"\"\n",
    "        if self.folds is None or self.iter == 0:\n",
    "            idx = np.arange(self.m)\n",
    "            np.random.shuffle(idx)\n",
    "            idx = idx[:-(self.m % self.sketch_size)].copy()\n",
    "            self.folds = np.array_split(idx, self.n_folds)\n",
    "            # print(f\"Creating {self.n_folds} folds, each of which of size {self.sketch_size}\")\n",
    "\n",
    "        # Going through all folds once before resampling new ones:\n",
    "        self.sample_indices = self.folds[self.iter].tolist()\n",
    "        # Sampling randomly a fold:\n",
    "        # self.sample_indices = self.folds[np.random.randint(0, self.n_folds)].tolist()\n",
    "\n",
    "    def sketch(self, r):\n",
    "        self.set_sketch()\n",
    "        self.iter += 1\n",
    "        if self.iter % self.n_folds == 0:\n",
    "            self.iter = 0\n",
    "        SA = self.A.get_rows(self.sample_indices)\n",
    "        SAS = SA[:, self.sample_indices]\n",
    "        rs = r[self.sample_indices]\n",
    "        return SA, SAS, rs\n",
    "\n",
    "    def update_iterate(self, w, lmbda, step_size=1.0):\n",
    "        if self.folds is None or self.sample_indices is None:\n",
    "            raise AttributeError(\"set the partition and select one of them first\")\n",
    "        w[self.sample_indices] -= step_size * lmbda\n",
    "        return w"
   ]
  },
  {
   "cell_type": "markdown",
   "metadata": {},
   "source": [
    "Something you should be careful about is the type of `A`. As presented in `a_matrix.py`, it can be either a `AMatrix` object or a `AOperator` for which $A$ is not built. For both class, common operations are available like matrix-vector multiplication, `get_elements` or `get_rows` methods."
   ]
  },
  {
   "cell_type": "markdown",
   "metadata": {},
   "source": [
    "<a id='add_to_solvers'></a>\n",
    "## 3. Add to solvers in *ridge_sketch.py*\n",
    "\n",
    "Add the new solver to the list in the `ridge_sketch.py` on line 21.\n",
    "\n",
    "WARNING: remove the \"sketch\" prefix."
   ]
  },
  {
   "cell_type": "code",
   "execution_count": 1,
   "metadata": {},
   "outputs": [],
   "source": [
    "SKETCH_SOLVERS = {\n",
    "    \"direct\",\n",
    "    \"cg\",\n",
    "    \"subsample\",\n",
    "    \"coordinate descent\",\n",
    "    \"gaussian\",\n",
    "    \"count\",\n",
    "    \"subcount\",\n",
    "    \"hadamard\",\n",
    "    \"partition\",\n",
    "    }"
   ]
  },
  {
   "cell_type": "markdown",
   "metadata": {},
   "source": [
    "<a id='tests'></a>\n",
    "## 4. Write tests\n",
    "\n",
    "### 1) General tests\n",
    "First, open `test/conftest.py` and add the name of your sketching method in the `ALL_SOLVERS` and `SKETCH_METHODS` lists. For instance,\n",
    "- add `\"partition\",` at the end of `ALL_SOLVERS` one lines 30\n",
    "- add `\"PartitionSketch\",` at the end of `SKETCH_METHODS` one line 46"
   ]
  },
  {
   "cell_type": "code",
   "execution_count": null,
   "metadata": {},
   "outputs": [],
   "source": [
    "ALL_SOLVERS = [\n",
    "    \"direct\",\n",
    "    \"cg\",\n",
    "    \"subsample\",\n",
    "    \"coordinate descent\",\n",
    "    \"gaussian\",\n",
    "    \"count\",\n",
    "    \"subcount\",\n",
    "    \"hadamard\",\n",
    "    \"partition\",\n",
    "    ]\n",
    "\n",
    "ALL_SOLVERS_EXCEPT_DIRECT = ALL_SOLVERS[1:]\n",
    "\n",
    "SKETCH_SOLVERS = ALL_SOLVERS_EXCEPT_DIRECT[1:]\n",
    "\n",
    "SKETCH_METHODS = [\n",
    "    \"SubsampleSketch\",\n",
    "    \"CoordinateDescentSketch\",\n",
    "    \"GaussianSketch\",\n",
    "    \"CountSketch\",\n",
    "    \"SubcountSketch\",\n",
    "    \"HadamardSketch\",\n",
    "    \"PartitionSketch\",\n",
    "    ]"
   ]
  },
  {
   "cell_type": "markdown",
   "metadata": {},
   "source": [
    "Thus, all tests related to the vanilla, momentum, accelerated, kernel, etc versions of Ridge Sketch are also launched on the new sketch.\n",
    "\n",
    "Slow tests are be launched on the new sketch too by running the following command\n",
    "```bash\n",
    "$ pytest . -v --runslow\n",
    "```\n",
    "where the `-v` is used to verbose the run tests."
   ]
  },
  {
   "cell_type": "markdown",
   "metadata": {},
   "source": [
    "**WARNING: the tests `test_all_sketch_solvers_solutions_sparse` and `test_all_sketch_solvers_operator_mode` are not passed by the sketching method presented in this notebook.**"
   ]
  },
  {
   "cell_type": "markdown",
   "metadata": {},
   "source": [
    "### 2) Additional specific tests\n",
    "Then, you can implement specific tests at the end of the the file `test/test_sketching.py` like this:"
   ]
  },
  {
   "cell_type": "code",
   "execution_count": null,
   "metadata": {},
   "outputs": [],
   "source": [
    "class TestPartion:\n",
    "    def test_partitions_number(self, A, b, sketch_size):\n",
    "        \"\"\"\n",
    "        Verifies that we divide the row indices of A into folds of size\n",
    "        `sketch_size`\n",
    "        \"\"\"\n",
    "        partition = sketching.PartitionSketch(A, b, sketch_size)\n",
    "        partition.set_sketch()\n",
    "        m = A.shape[0]\n",
    "        n_folds = int(np.floor(m / sketch_size))\n",
    "        assert len(partition.folds) == n_folds\n",
    "\n",
    "    def test_partitions_size(self, A, b, sketch_size):\n",
    "        \"\"\"Verifies that the folds are of size `sketch_size`\"\"\"\n",
    "        partition = sketching.PartitionSketch(A, b, sketch_size)\n",
    "        partition.set_sketch()\n",
    "        assert len(partition.sample_indices) == sketch_size"
   ]
  },
  {
   "cell_type": "markdown",
   "metadata": {},
   "source": [
    "### 3) Run the tests\n",
    "\n",
    "Run\n",
    "```bash\n",
    "$ pytest . -v\n",
    "```\n",
    "add `--runslow` to run tests marked as slow."
   ]
  },
  {
   "cell_type": "markdown",
   "metadata": {},
   "source": [
    "<a id='benchmark'></a>\n",
    "## 5. Write a benchmark\n",
    "\n",
    "Open `benchmark_configs.py` and create a new benchmark at the end like this:"
   ]
  },
  {
   "cell_type": "code",
   "execution_count": null,
   "metadata": {},
   "outputs": [],
   "source": [
    "# Partition Benchmarks\n",
    "partition_bench = Configs(name=\"partition\")\n",
    "partition_bench.problems = (\"primal_random\",) # primal or dual generated problem \n",
    "partition_bench.algo_modes = (\"auto\",) # only vanilla Ridge Sketch method\n",
    "partition_bench.operator_modes = (False,) # only matrix mode\n",
    "partition_bench.solvers = {\"partition\", \"direct\", \"cg\"} # solvers to compare with\n",
    "partition_bench.smaller_dimension = 2000\n",
    "partition_bench.larger_dimension = 8000"
   ]
  },
  {
   "cell_type": "markdown",
   "metadata": {},
   "source": [
    "Then run \n",
    "```bash\n",
    "$ python benchmarks.py partition_bench\n",
    "```\n",
    "and the results should be saved in the `benchmark_results/partition_bench` folder."
   ]
  }
 ],
 "metadata": {
  "kernelspec": {
   "display_name": "Python 3.7.7 64-bit ('ridgesketch-env': venv)",
   "language": "python",
   "name": "python37764bitridgesketchenvvenvdf2ee632ce4344578162f27aa20aab68"
  },
  "language_info": {
   "codemirror_mode": {
    "name": "ipython",
    "version": 3
   },
   "file_extension": ".py",
   "mimetype": "text/x-python",
   "name": "python",
   "nbconvert_exporter": "python",
   "pygments_lexer": "ipython3",
   "version": "3.7.7"
  }
 },
 "nbformat": 4,
 "nbformat_minor": 4
}
