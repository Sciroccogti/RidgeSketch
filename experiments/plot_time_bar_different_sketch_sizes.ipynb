{
 "metadata": {
  "language_info": {
   "codemirror_mode": {
    "name": "ipython",
    "version": 3
   },
   "file_extension": ".py",
   "mimetype": "text/x-python",
   "name": "python",
   "nbconvert_exporter": "python",
   "pygments_lexer": "ipython3",
   "version": "3.7.7-final"
  },
  "orig_nbformat": 2,
  "kernelspec": {
   "name": "python3",
   "display_name": "Python 3",
   "language": "python"
  }
 },
 "nbformat": 4,
 "nbformat_minor": 2,
 "cells": [
  {
   "cell_type": "code",
   "execution_count": null,
   "metadata": {},
   "outputs": [],
   "source": [
    "import os\n",
    "import numpy as np\n",
    "import pandas as pd \n",
    "import time\n",
    "import plotly.express as px \n",
    "import plotly.graph_objs as go"
   ]
  },
  {
   "cell_type": "code",
   "execution_count": null,
   "metadata": {},
   "outputs": [],
   "source": [
    "COLORS = px.colors.qualitative.Plotly\n",
    "# blue, red, green, purple, cyan, pink, ...\n",
    "\n",
    "LINE_STYLES = [\"solid\", \"dot\", \"dash\", \"longdash\", \"dashdot\", \"longdashdot\"]\n",
    "\n",
    "SYMBOLS = [\n",
    "    \"circle\",\n",
    "    \"square\",\n",
    "    \"star\",\n",
    "    \"x\",\n",
    "    \"triangle-up\",\n",
    "    \"pentagon\",\n",
    "    \"cross\",\n",
    "]\n",
    "\n",
    "# Parameters for exp 9.2, 9.3 and 9.4\n",
    "COLOR_DICT = {\n",
    "    \"count\": COLORS[0],\n",
    "    \"gaussian\": COLORS[1],\n",
    "    \"hadamard\": COLORS[2],\n",
    "    \"subcount\": COLORS[3],\n",
    "    \"subsample\": COLORS[4],\n",
    "    \"CD (sketch size = 1)\": COLORS[5],\n",
    "    \"cg\": COLORS[6],\n",
    "    \"no_mom\": COLORS[0],\n",
    "    \"cst_mom\": COLORS[1],\n",
    "    \"inc_mom\": COLORS[2],\n",
    "    \"no momentum\": COLORS[0],\n",
    "    \"constant momentum\": COLORS[1],\n",
    "    \"increasing momentum\": COLORS[2],\n",
    "}"
   ]
  },
  {
   "source": [
    "## Choose data"
   ],
   "cell_type": "markdown",
   "metadata": {}
  },
  {
   "source": [
    "### Boston"
   ],
   "cell_type": "markdown",
   "metadata": {}
  },
  {
   "source": [
    "# # ## Boston kernel + subsample + tol = 1e-4, reg = 1e-6\n",
    "# times_df = pd.read_csv(\"/home/nidham/phd/RidgeSketch/ridge_sketch/experiments/results/9_2_sketch_size_time/boston_kernel_solvers_subsample_reg_1e-06_tol_1e-04_n_rep_100_max_iter_10000_heuristic_lame/boston_kernel_reg_1e-06_tol_1e-04_n_rep_100_max_iter_10000_heuristic_times.csv\")"
   ],
   "cell_type": "code",
   "metadata": {},
   "execution_count": null,
   "outputs": []
  },
  {
   "cell_type": "code",
   "execution_count": null,
   "metadata": {},
   "outputs": [],
   "source": [
    "# ## Boston kernel + count + tol = 1e-4, reg = 1e-6\n",
    "# times_df = pd.read_csv(\"/home/nidham/phd/RidgeSketch/ridge_sketch/experiments/results/9_2_sketch_size_time/boston_kernel_reg_1e-06_tol_1e-04_n_rep_100_max_iter_10006_heuristic/boston_kernel_reg_1e-06_tol_1e-04_n_rep_100_max_iter_10006_heuristic_times.csv\") "
   ]
  },
  {
   "source": [
    "### Cali"
   ],
   "cell_type": "markdown",
   "metadata": {}
  },
  {
   "cell_type": "code",
   "execution_count": null,
   "metadata": {},
   "outputs": [],
   "source": [
    "# ## Cali kernel + subsample + tol = 1e-4, reg = 1e-6\n",
    "# times_df = pd.read_csv(\"/home/nidham/phd/RidgeSketch/ridge_sketch/experiments/results/9_2_sketch_size_time/california_housing_kernel_solvers_subsample_reg_1e-06_tol_1e-04_n_rep_10_max_iter_10000_heuristic_lame/california_housing_kernel_reg_1e-06_tol_1e-04_n_rep_10_max_iter_10000_heuristic_times.csv\") "
   ]
  },
  {
   "cell_type": "code",
   "execution_count": null,
   "metadata": {},
   "outputs": [],
   "source": [
    "# ## Cali kernel + subsample + tol = 1e-3, reg = 1e-6\n",
    "# times_df = pd.read_csv(\"/home/nidham/phd/RidgeSketch/ridge_sketch/experiments/results/9_2_sketch_size_time/california_housing_kernel_solvers_subsample_reg_1e-06_tol_1e-03_n_rep_10_max_iter_10000_heuristic_lame/california_housing_kernel_reg_1e-06_tol_1e-03_n_rep_10_max_iter_10000_heuristic_times.csv\") "
   ]
  },
  {
   "source": [
    "### RCV1"
   ],
   "cell_type": "markdown",
   "metadata": {}
  },
  {
   "cell_type": "code",
   "execution_count": null,
   "metadata": {},
   "outputs": [],
   "source": [
    "# ## Rcv1 + subsample + tol = 1e-3, reg = 1e-6\n",
    "# times_df = pd.read_csv(\"/home/nidham/phd/RidgeSketch/ridge_sketch/experiments/results/9_2_sketch_size_time/rcv1_reg_1e-06_tol_1e-03_n_rep_10_max_iter_10000_heuristic_lame/rcv1_reg_1e-06_tol_1e-03_n_rep_10_max_iter_10000_heuristic_times.csv\") "
   ]
  },
  {
   "cell_type": "code",
   "execution_count": null,
   "metadata": {},
   "outputs": [],
   "source": [
    "# ## Rcv1 + subsample + tol = 1e-4, reg = 1e-6\n",
    "# times_df = pd.read_csv(\"/home/nidham/phd/RidgeSketch/ridge_sketch/experiments/results/9_2_sketch_size_time/ ??? \") "
   ]
  },
  {
   "source": [
    "# ## Rcv1 + count + tol = 1e-3, reg = 1e-6\n",
    "# times_df = pd.read_csv(\"/home/nidham/phd/RidgeSketch/ridge_sketch/experiments/results/9_2_sketch_size_time/rcv1_reg_1e-06_tol_1e-03_n_rep_10_max_iter_10009_heuristic/rcv1_reg_1e-06_tol_1e-03_n_rep_10_max_iter_10009_heuristic_times.csv\") "
   ],
   "cell_type": "code",
   "metadata": {},
   "execution_count": null,
   "outputs": []
  },
  {
   "cell_type": "code",
   "execution_count": null,
   "metadata": {},
   "outputs": [],
   "source": [
    "# ## Rcv1 + count + tol = 1e-4, reg = 1e-6times_df = pd.read_csv(\"/home/nidham/phd/RidgeSketch/ridge_sketch/experiments/results/9_2_sketch_size_time/ ??? \") \n",
    "# "
   ]
  },
  {
   "source": [
    "## Load dataframe"
   ],
   "cell_type": "markdown",
   "metadata": {}
  },
  {
   "cell_type": "code",
   "execution_count": null,
   "metadata": {},
   "outputs": [],
   "source": [
    "df = times_df.copy()\n",
    "df[\"error (1st quartile)\"] = df[\"time (median)\"] - df[\"time (1st quartile)\"]\n",
    "df[\"error (3rd quartile)\"] = df[\"time (3rd quartile)\"] - df[\"time (median)\"]"
   ]
  },
  {
   "cell_type": "code",
   "execution_count": null,
   "metadata": {},
   "outputs": [],
   "source": [
    "df"
   ]
  },
  {
   "source": [
    "# Plot"
   ],
   "cell_type": "markdown",
   "metadata": {}
  },
  {
   "cell_type": "code",
   "execution_count": null,
   "metadata": {},
   "outputs": [],
   "source": [
    "fig = go.Figure(data=[\n",
    "    go.Bar(\n",
    "        name=\"no momentum\", \n",
    "        x=df[\"sketch_size\"], \n",
    "        y=df[df[\"run_name\"] == \"no_mom\"][\"time (median)\"],\n",
    "        error_y=dict(\n",
    "            array=df[df[\"run_name\"] == \"no_mom\"][\"error (3rd quartile)\"],\n",
    "            arrayminus=df[df[\"run_name\"] == \"no_mom\"][\"error (1st quartile)\"]\n",
    "        ),\n",
    "        marker_color=COLOR_DICT[\"no_mom\"],\n",
    "    ),\n",
    "    go.Bar(\n",
    "        name=\"increasing momentum\", \n",
    "        x=df[\"sketch_size\"], \n",
    "        y=df[df[\"run_name\"] == \"inc_mom\"][\"time (median)\"],\n",
    "        error_y=dict(\n",
    "            array=df[df[\"run_name\"] == \"inc_mom\"][\"error (3rd quartile)\"],\n",
    "            arrayminus=df[df[\"run_name\"] == \"inc_mom\"][\"error (1st quartile)\"]\n",
    "        ),\n",
    "        marker_color=COLOR_DICT[\"inc_mom\"],\n",
    "    ),\n",
    "    go.Bar(\n",
    "        name=\"constant momentum\", \n",
    "        x=df[\"sketch_size\"], \n",
    "        y=df[df[\"run_name\"] == \"cst_mom\"][\"time (median)\"],\n",
    "        error_y=dict(\n",
    "            array=df[df[\"run_name\"] == \"cst_mom\"][\"error (3rd quartile)\"],\n",
    "            arrayminus=df[df[\"run_name\"] == \"cst_mom\"][\"error (1st quartile)\"]\n",
    "        ),\n",
    "        marker_color=COLOR_DICT[\"cst_mom\"],\n",
    "    ),\n",
    "])\n",
    "\n",
    "# Change the bar mode\n",
    "fig.update_layout(barmode='group')\n",
    "\n",
    "# Legend position\n",
    "fig.update_layout(\n",
    "    margin={\"l\": 20, \"r\": 20, \"t\": 20, \"b\": 20},\n",
    "    template=\"plotly_white\",\n",
    "    font=dict(size=20,),\n",
    "    xaxis_title=\"sketch size\",\n",
    "    yaxis_title=\"time (seconds)\",\n",
    "    legend=dict(\n",
    "        yanchor=\"top\",\n",
    "        y=0.99,\n",
    "        xanchor=\"left\",\n",
    "        x=0.01,\n",
    "    )\n",
    ")\n",
    "\n",
    "# Show plot\n",
    "fig.show()"
   ]
  },
  {
   "source": [
    "# Saving"
   ],
   "cell_type": "markdown",
   "metadata": {}
  },
  {
   "source": [
    "### Boston kernel + subsample + tol = 1e-4, reg = 1e-6"
   ],
   "cell_type": "markdown",
   "metadata": {}
  },
  {
   "cell_type": "code",
   "execution_count": null,
   "metadata": {},
   "outputs": [],
   "source": [
    "# file_name = \"boston_k_subsample_reg_1e-06_tol_1e-04_n_rep_100_max_iter_10000_heuristic_sketch_size_bar_plot.pdf\""
   ]
  },
  {
   "source": [
    "### Boston kernel + count + tol = 1e-4, reg = 1e-6"
   ],
   "cell_type": "markdown",
   "metadata": {}
  },
  {
   "cell_type": "code",
   "execution_count": null,
   "metadata": {},
   "outputs": [],
   "source": [
    "# file_name = \"boston_k_count_reg_1e-06_tol_1e-04_n_rep_100_max_iter_10007_heuristic_sketch_size_bar_plot.pdf\""
   ]
  },
  {
   "source": [
    "### Cali kernel + subsample + tol = 1e-4, reg = 1e-6"
   ],
   "cell_type": "markdown",
   "metadata": {}
  },
  {
   "cell_type": "code",
   "execution_count": null,
   "metadata": {},
   "outputs": [],
   "source": [
    "# file_name = \"cali_k_subsample_reg_1e-06_tol_1e-04_n_rep_10_max_iter_10000_heuristic_sketch_size_bar_plot.pdf\""
   ]
  },
  {
   "source": [
    "### Cali kernel + subsample + tol = 1e-3, reg = 1e-6"
   ],
   "cell_type": "markdown",
   "metadata": {}
  },
  {
   "cell_type": "code",
   "execution_count": null,
   "metadata": {},
   "outputs": [],
   "source": [
    "# file_name = \"cali_k_subsample_reg_1e-06_tol_1e-03_n_rep_10_max_iter_10000_heuristic_sketch_size_bar_plot.pdf\""
   ]
  },
  {
   "source": [
    "### Rcv1 + subsample + tol = 1e-3, reg = 1e-6  "
   ],
   "cell_type": "markdown",
   "metadata": {}
  },
  {
   "cell_type": "code",
   "execution_count": null,
   "metadata": {},
   "outputs": [],
   "source": [
    "# file_name = \"rcv1_subsample_reg_1e-06_tol_1e-03_n_rep_10_max_iter_10000_heuristic_sketch_size_bar_plot.pdf\""
   ]
  },
  {
   "source": [
    "### Rcv1 + count + tol = 1e-3, reg = 1e-6  "
   ],
   "cell_type": "markdown",
   "metadata": {}
  },
  {
   "cell_type": "code",
   "execution_count": null,
   "metadata": {},
   "outputs": [],
   "source": [
    "# file_name = \"rcv1_count_reg_1e-06_tol_1e-03_n_rep_10_max_iter_10009_heuristic_sketch_size_bar_plot.pdf\""
   ]
  },
  {
   "source": [
    "## Save"
   ],
   "cell_type": "markdown",
   "metadata": {}
  },
  {
   "cell_type": "code",
   "execution_count": null,
   "metadata": {},
   "outputs": [],
   "source": [
    "path = \"/home/nidham/phd/RidgeSketch/ridge_sketch/experiments/results/9_2_sketch_size_time/\"\n",
    "fig.write_image(os.path.join(path, file_name))"
   ]
  }
 ]
}